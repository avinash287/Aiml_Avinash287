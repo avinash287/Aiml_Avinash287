{
 "cells": [
  {
   "cell_type": "code",
   "execution_count": 1,
   "id": "ab0ed69d-1ff7-4830-8c5a-989aca8a56dc",
   "metadata": {},
   "outputs": [
    {
     "name": "stdout",
     "output_type": "stream",
     "text": [
      "(1, 2, 3, 4, 5, 6, 7, 8)\n",
      "<class 'tuple'>\n"
     ]
    }
   ],
   "source": [
    "s1=(1,2,3,4,5,6,7,8)\n",
    "print(s1)\n",
    "print(type(s1))"
   ]
  },
  {
   "cell_type": "code",
   "execution_count": 2,
   "id": "f527d8d2-1eda-443b-907b-705fd01ceb20",
   "metadata": {},
   "outputs": [
    {
     "name": "stdout",
     "output_type": "stream",
     "text": [
      "{1, 2, 3, 4, 5, 6, 7, 8}\n",
      "<class 'set'>\n"
     ]
    }
   ],
   "source": [
    "lst1=[1,8,7,6,5,4,3,2,1]\n",
    "s2=set(lst1)\n",
    "print(s2)\n",
    "print(type(s2))"
   ]
  },
  {
   "cell_type": "code",
   "execution_count": 8,
   "id": "aaca32e6-bba9-4dd2-8f85-9d3825eb61dd",
   "metadata": {},
   "outputs": [
    {
     "data": {
      "text/plain": [
       "{1, 2, 3, 4, 5, 6, 7, 8}"
      ]
     },
     "execution_count": 8,
     "metadata": {},
     "output_type": "execute_result"
    }
   ],
   "source": [
    "##union operation using / operator\n",
    "s1 = {8,7,6,5}\n",
    "s2 = {4,3,2,1}\n",
    "s1|s2"
   ]
  },
  {
   "cell_type": "code",
   "execution_count": 9,
   "id": "251151eb-91c1-4cbd-85d8-ef81fb5dac2d",
   "metadata": {},
   "outputs": [
    {
     "data": {
      "text/plain": [
       "set()"
      ]
     },
     "execution_count": 9,
     "metadata": {},
     "output_type": "execute_result"
    }
   ],
   "source": [
    "#Intersection using & operator\n",
    "s5 = {4,3,2,1}\n",
    "s6 = {8,7,6,5}\n",
    "s5 & s6"
   ]
  },
  {
   "cell_type": "code",
   "execution_count": 10,
   "id": "fb49474a-033d-475c-a187-a5724070268e",
   "metadata": {},
   "outputs": [
    {
     "data": {
      "text/plain": [
       "{4, 5, 6}"
      ]
     },
     "execution_count": 10,
     "metadata": {},
     "output_type": "execute_result"
    }
   ],
   "source": [
    "#difference of two sets\n",
    "s3={6,5,4,3}\n",
    "s4={3,2,1}\n",
    "s3 - s4"
   ]
  },
  {
   "cell_type": "code",
   "execution_count": 11,
   "id": "51b1fb01-4d1b-4642-b20d-b7ed9446efee",
   "metadata": {},
   "outputs": [
    {
     "data": {
      "text/plain": [
       "{1, 2, 3, 6, 7, 8}"
      ]
     },
     "execution_count": 11,
     "metadata": {},
     "output_type": "execute_result"
    }
   ],
   "source": [
    "##symetric difference\n",
    "s1={8,7,6,5,4}\n",
    "s2={1,2,3,4,5}\n",
    "s1.symmetric_difference(s2)"
   ]
  },
  {
   "cell_type": "code",
   "execution_count": 12,
   "id": "21964f3b-60db-4c55-8913-7fbd48e82ee7",
   "metadata": {},
   "outputs": [
    {
     "data": {
      "text/plain": [
       "True"
      ]
     },
     "execution_count": 12,
     "metadata": {},
     "output_type": "execute_result"
    }
   ],
   "source": [
    "s1={1,2,3,4,5}\n",
    "s2={1,2,3}\n",
    "s2.issubset(s1)"
   ]
  },
  {
   "cell_type": "code",
   "execution_count": 13,
   "id": "cc8dbe0e-9f25-43a6-948a-9de9a3be9605",
   "metadata": {},
   "outputs": [
    {
     "name": "stdout",
     "output_type": "stream",
     "text": [
      "welcome to gamma class\n",
      "we started with python\n"
     ]
    }
   ],
   "source": [
    "str1=\"welcome to gamma class\"\n",
    "print(str1)\n",
    "str2=\"we started with python\"\n",
    "print(str2)"
   ]
  },
  {
   "cell_type": "code",
   "execution_count": 14,
   "id": "38e5c240-1554-460f-84c2-8f85b0c396ae",
   "metadata": {},
   "outputs": [
    {
     "name": "stdout",
     "output_type": "stream",
     "text": [
      "<class 'str'>\n",
      "<class 'str'>\n"
     ]
    }
   ],
   "source": [
    "print(type (str1))\n",
    "print(type (str2))"
   ]
  },
  {
   "cell_type": "code",
   "execution_count": 15,
   "id": "f54a1b6c-ae91-4c88-be0a-647d03684b2a",
   "metadata": {},
   "outputs": [
    {
     "name": "stdout",
     "output_type": "stream",
     "text": [
      "welcome to gamma class\n"
     ]
    },
    {
     "data": {
      "text/plain": [
       "'me to'"
      ]
     },
     "execution_count": 15,
     "metadata": {},
     "output_type": "execute_result"
    }
   ],
   "source": [
    "#slicing\n",
    "print(str1)\n",
    "str1[5:10]"
   ]
  },
  {
   "cell_type": "code",
   "execution_count": null,
   "id": "6ef58148-cef0-4696-b0db-98aced034a87",
   "metadata": {},
   "outputs": [],
   "source": [
    "di=(\"ram\":180,\"shyam\":160,\"raju\":140)"
   ]
  }
 ],
 "metadata": {
  "kernelspec": {
   "display_name": "Python 3 (ipykernel)",
   "language": "python",
   "name": "python3"
  },
  "language_info": {
   "codemirror_mode": {
    "name": "ipython",
    "version": 3
   },
   "file_extension": ".py",
   "mimetype": "text/x-python",
   "name": "python",
   "nbconvert_exporter": "python",
   "pygments_lexer": "ipython3",
   "version": "3.12.7"
  }
 },
 "nbformat": 4,
 "nbformat_minor": 5
}
